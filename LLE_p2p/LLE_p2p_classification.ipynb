{
 "cells": [
  {
   "cell_type": "code",
   "execution_count": 1,
   "metadata": {},
   "outputs": [],
   "source": [
    "import pandas as pd\n",
    "pd.set_option('display.max_columns', None)\n",
    "pd.set_option('display.max_rows', None)"
   ]
  },
  {
   "cell_type": "code",
   "execution_count": 2,
   "metadata": {},
   "outputs": [
    {
     "name": "stderr",
     "output_type": "stream",
     "text": [
      "/Users/izzy/anaconda3/lib/python3.7/site-packages/lightgbm/__init__.py:48: UserWarning: Starting from version 2.2.1, the library file in distribution wheels for macOS is built by the Apple Clang (Xcode_8.3.3) compiler.\n",
      "This means that in case of installing LightGBM from PyPI via the ``pip install lightgbm`` command, you don't need to install the gcc compiler anymore.\n",
      "Instead of that, you need to install the OpenMP library, which is required for running LightGBM on the system with the Apple Clang compiler.\n",
      "You can install the OpenMP library by the following command: ``brew install libomp``.\n",
      "  \"You can install the OpenMP library by the following command: ``brew install libomp``.\", UserWarning)\n"
     ]
    }
   ],
   "source": [
    "import numpy as np\n",
    "import matplotlib.pyplot as plt\n",
    "from mpl_toolkits.mplot3d import Axes3D\n",
    "from sklearn.manifold import locally_linear_embedding, TSNE, Isomap, MDS\n",
    "from sklearn.decomposition import PCA\n",
    "import seaborn as sns\n",
    "import os\n",
    "import random\n",
    "from sklearn.model_selection import train_test_split\n",
    "from sklearn.model_selection import StratifiedKFold\n",
    "import time\n",
    "import lightgbm as lgb\n",
    "from sklearn.metrics import log_loss, roc_auc_score, confusion_matrix, mean_squared_error\n",
    "from sklearn.neighbors import KNeighborsClassifier\n",
    "import gc\n",
    "from sklearn.linear_model import LogisticRegression"
   ]
  },
  {
   "cell_type": "code",
   "execution_count": 3,
   "metadata": {},
   "outputs": [],
   "source": [
    "SEED = 42\n",
    "TEST_SIZE = 0.25"
   ]
  },
  {
   "cell_type": "code",
   "execution_count": 4,
   "metadata": {},
   "outputs": [],
   "source": [
    "############ RANDOMNESS\n",
    "\n",
    "# seed function\n",
    "def seed_everything(seed = 42):\n",
    "    os.environ['PYTHONHASHSEED'] = str(seed)\n",
    "    random.seed(seed)\n",
    "    np.random.seed(seed)\n",
    "    \n",
    "# set seed\n",
    "seed_everything(SEED)"
   ]
  },
  {
   "cell_type": "code",
   "execution_count": 5,
   "metadata": {},
   "outputs": [],
   "source": [
    "data = pd.read_csv('./p2p.csv', index_col=0)\n",
    "y = data.status\n",
    "data.index = range(data.shape[0])"
   ]
  },
  {
   "cell_type": "code",
   "execution_count": 6,
   "metadata": {},
   "outputs": [
    {
     "data": {
      "text/plain": [
       "0    13413\n",
       "1     1632\n",
       "Name: status, dtype: int64"
      ]
     },
     "execution_count": 6,
     "metadata": {},
     "output_type": "execute_result"
    }
   ],
   "source": [
    "y.value_counts()"
   ]
  },
  {
   "cell_type": "code",
   "execution_count": 232,
   "metadata": {},
   "outputs": [],
   "source": [
    "def reduction(data, reduction_type='LLE', add_features=True, n_neighbors=15, n_components=2, random_state=0, n_jobs=20):\n",
    "   \n",
    "    columns = [f'component{i+1}' for i in range(n_components)]\n",
    "    \n",
    "    if reduction_type=='LLE':\n",
    "        X_r, err = locally_linear_embedding(data, n_neighbors=n_neighbors, \n",
    "                                                     n_components=n_components, random_state=random_state,\n",
    "                                           n_jobs=n_jobs)    \n",
    "    elif reduction_type=='TSNE':\n",
    "        X_r = TSNE(n_components=n_components, random_state=random_state, n_jobs=n_jobs).fit_transform(data)    \n",
    "    elif reduction_type=='PCA':\n",
    "        pca = PCA(n_components=n_components, random_state=random_state)\n",
    "        pca.fit(data)\n",
    "        X_r = pca.transform(data)   \n",
    "    elif reduction_type=='Isomap' or reduction_type=='ISOMAP':\n",
    "        X_r = Isomap(n_components=n_components, n_neighbors=n_neighbors, n_jobs=n_jobs).fit_transform(data)    \n",
    "    else:\n",
    "        raise ValueError(\"unrecognized dimensionality reduction method\")\n",
    "    \n",
    "    X_r = pd.DataFrame(X_r, columns=columns)\n",
    "    \n",
    "    if add_features==True:\n",
    "        data = pd.concat([data, X_r], axis=1)\n",
    "    else:\n",
    "        data = X_r\n",
    "    return data"
   ]
  },
  {
   "cell_type": "code",
   "execution_count": 233,
   "metadata": {},
   "outputs": [],
   "source": [
    "# Uncomment to use the required dimensionality reduction technique\n",
    "\n",
    "#data = reduction(data, reduction_type='LLE', add_features=True)\n",
    "#data = reduction(data, reduction_type='TSNE', add_features=True)\n",
    "#data = reduction(data, reduction_type='PCA', add_features=True)\n",
    "#data = reduction(data, reduction_type='Isomap', add_features=True)"
   ]
  },
  {
   "cell_type": "code",
   "execution_count": 234,
   "metadata": {},
   "outputs": [],
   "source": [
    "X_train, X_test, y_train, y_test = train_test_split(\n",
    "                                     data, y, test_size=TEST_SIZE, random_state=SEED)"
   ]
  },
  {
   "cell_type": "code",
   "execution_count": 235,
   "metadata": {},
   "outputs": [],
   "source": [
    "excluded_feats = ['status', 'nace']\n",
    "features = [f for f in X_train.columns if f not in excluded_feats]"
   ]
  },
  {
   "cell_type": "code",
   "execution_count": 236,
   "metadata": {},
   "outputs": [],
   "source": [
    "\n",
    "# cores\n",
    "CORES = 20\n",
    "# cross-validation\n",
    "NUM_FOLD = 5\n",
    "SHUFFLE   = True\n",
    "\n",
    "\n",
    "# data partitinoing\n",
    "folds = StratifiedKFold(n_splits = NUM_FOLD, random_state = SEED, shuffle = SHUFFLE)\n",
    "\n",
    "############ PLACEHOLDERS\n",
    "\n",
    "# placeholders\n",
    "clfs = []\n",
    "importances = pd.DataFrame()\n",
    "\n",
    "# predictions\n",
    "preds_oof    = pd.Series(np.zeros(X_train.shape[0]))"
   ]
  },
  {
   "cell_type": "code",
   "execution_count": 237,
   "metadata": {},
   "outputs": [
    {
     "name": "stdout",
     "output_type": "stream",
     "text": [
      "Data shape: (9026, 25) (2257, 25)\n",
      "--------------------------------\n",
      "FOLD 1: AUC = 0.816648\n",
      "--------------------------------\n",
      "\n",
      "Data shape: (9026, 25) (2257, 25)\n",
      "--------------------------------\n",
      "FOLD 2: AUC = 0.830000\n",
      "--------------------------------\n",
      "\n",
      "Data shape: (9026, 25) (2257, 25)\n",
      "--------------------------------\n",
      "FOLD 3: AUC = 0.801403\n",
      "--------------------------------\n",
      "\n",
      "Data shape: (9027, 25) (2256, 25)\n",
      "--------------------------------\n",
      "FOLD 4: AUC = 0.825533\n",
      "--------------------------------\n",
      "\n",
      "Data shape: (9027, 25) (2256, 25)\n",
      "--------------------------------\n",
      "FOLD 5: AUC = 0.788516\n",
      "--------------------------------\n",
      "\n",
      "--------------------------------\n",
      "- OOF AUC = 0.812440\n",
      "- CV TIME = 0.01 min\n",
      "--------------------------------\n"
     ]
    }
   ],
   "source": [
    "############ CROSS-VALIDATION LOOP\n",
    "cv_start  = time.time()\n",
    "for n_fold, (trn_idx, val_idx) in enumerate(folds.split(X_train, y_train)):\n",
    "\n",
    "    # data partitioning\n",
    "    trn_x, trn_y = X_train[features].iloc[trn_idx], y_train.iloc[trn_idx]\n",
    "    val_x, val_y = X_train[features].iloc[val_idx], y_train.iloc[val_idx]\n",
    "    test_x       = X_test[features]\n",
    "         \n",
    "    ## add noise to train to reduce overfitting\n",
    "    #trn_x += np.random.normal(0, 0.1, trn_x.shape)\n",
    "    \n",
    "    # print data dimensions\n",
    "    print('Data shape:', trn_x.shape, val_x.shape)\n",
    "    #print('Data shape:', trn_y.shape, val_y.shape)    \n",
    "    # train Ridge\n",
    "    clf = LogisticRegression(random_state=SEED).fit(trn_x, trn_y)\n",
    "    \n",
    "\n",
    "    # save predictions\n",
    "    preds_oof.iloc[val_idx] = clf.predict_proba(val_x)[:, 1]\n",
    "    \n",
    "    # print performance\n",
    "    print('--------------------------------')\n",
    "    print('FOLD%2d: AUC = %.6f' % (n_fold + 1, roc_auc_score(y_train.iloc[val_idx], preds_oof.iloc[val_idx])))\n",
    "    print('--------------------------------')\n",
    "    print('')\n",
    "        \n",
    "    # clear memory\n",
    "    del trn_x, trn_y, val_x, val_y\n",
    "    gc.collect()\n",
    "    \n",
    "    \n",
    "# print overall performance    \n",
    "cv_perf = roc_auc_score(y_train, preds_oof)\n",
    "print('--------------------------------')\n",
    "print('- OOF AUC = %.6f' % cv_perf)\n",
    "print('- CV TIME = {:.2f} min'.format((time.time() - cv_start) / 60))\n",
    "print('--------------------------------')"
   ]
  },
  {
   "cell_type": "code",
   "execution_count": 238,
   "metadata": {},
   "outputs": [],
   "source": [
    "clf = LogisticRegression(random_state=SEED).fit(X_train[features], y_train)"
   ]
  },
  {
   "cell_type": "code",
   "execution_count": 239,
   "metadata": {},
   "outputs": [],
   "source": [
    "preds_test = clf.predict_proba(X_test[features])[:, 1]"
   ]
  },
  {
   "cell_type": "code",
   "execution_count": 240,
   "metadata": {},
   "outputs": [
    {
     "data": {
      "text/plain": [
       "0.7996475090664394"
      ]
     },
     "execution_count": 240,
     "metadata": {},
     "output_type": "execute_result"
    }
   ],
   "source": [
    "roc_auc_score(y_test, preds_test)"
   ]
  },
  {
   "cell_type": "code",
   "execution_count": null,
   "metadata": {},
   "outputs": [],
   "source": []
  }
 ],
 "metadata": {
  "kernelspec": {
   "display_name": "Python 3",
   "language": "python",
   "name": "python3"
  },
  "language_info": {
   "codemirror_mode": {
    "name": "ipython",
    "version": 3
   },
   "file_extension": ".py",
   "mimetype": "text/x-python",
   "name": "python",
   "nbconvert_exporter": "python",
   "pygments_lexer": "ipython3",
   "version": "3.7.3"
  }
 },
 "nbformat": 4,
 "nbformat_minor": 2
}
